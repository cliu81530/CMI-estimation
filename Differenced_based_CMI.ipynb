{
  "cells": [
    {
      "cell_type": "code",
      "execution_count": 1,
      "metadata": {
        "id": "R3bs9X4GyM8T"
      },
      "outputs": [],
      "source": [
        "import numpy as np\n",
        "import tensorflow as tf\n",
        "from tensorflow.keras.layers import Dense\n",
        "from tensorflow.keras.models import Model\n",
        "from sklearn.model_selection import train_test_split\n",
        "from sklearn.preprocessing import StandardScaler\n",
        "from sklearn.datasets import make_classification, load_diabetes\n",
        "import matplotlib.pyplot as plt"
      ]
    },
    {
      "cell_type": "markdown",
      "metadata": {
        "id": "88C9nwisUcKw"
      },
      "source": [
        "## Loss function and Model"
      ]
    },
    {
      "cell_type": "code",
      "execution_count": 2,
      "metadata": {
        "id": "4y5qCrkMyR3a"
      },
      "outputs": [],
      "source": [
        "def DV_loss(y_true, T_x):\n",
        "    y_true = tf.cast(y_true, tf.float32)\n",
        "    epsilon = 1e-10\n",
        "    n1 = tf.reduce_sum(y_true)\n",
        "    n2 = tf.reduce_sum(1 - y_true)\n",
        "    T_x_exp = tf.exp(tf.clip_by_value(T_x, -50, 50))\n",
        "    log_sum_exp = tf.math.log(tf.reduce_sum(T_x_exp * (1 - y_true)) + epsilon)\n",
        "    dv_loss = tf.reduce_sum(T_x * y_true) / n1 - log_sum_exp / n2\n",
        "    return -dv_loss\n",
        "\n",
        "\n",
        "def build_model(input_dim):\n",
        "    inputs = tf.keras.Input(shape=(input_dim,))\n",
        "    x = Dense(64, activation='softplus', kernel_initializer='he_normal')(inputs)\n",
        "    x = Dense(64, activation='softplus', kernel_initializer='he_normal')(x)\n",
        "    outputs = Dense(1)(x)\n",
        "    model = Model(inputs, outputs)\n",
        "    return model\n",
        "\n",
        "\n",
        "def estimate_mi(x, y, input_dim, learning_rate=1e-6, epochs=200, batch_size=128):\n",
        "    model = build_model(input_dim)\n",
        "    optimizer = tf.keras.optimizers.Adam(learning_rate=learning_rate, clipvalue=1.0)\n",
        "    es = tf.keras.callbacks.EarlyStopping(monitor='val_loss', mode='min', patience=10)\n",
        "    model.compile(optimizer=optimizer, loss=DV_loss)\n",
        "\n",
        "    x_train, x_test, y_train, y_test = train_test_split(x, y, test_size=0.25)\n",
        "\n",
        "    scaler = StandardScaler()\n",
        "    x_train = scaler.fit_transform(x_train)\n",
        "    x_test = scaler.transform(x_test)\n",
        "\n",
        "\n",
        "\n",
        "    model.fit(x_train, y_train, epochs=epochs, batch_size=batch_size, validation_data=(x_test, y_test), callbacks=[es], verbose=0)\n",
        "\n",
        "    mi_estimate = model.evaluate(x_test, y_test, verbose=0)\n",
        "    return -mi_estimate\n"
      ]
    },
    {
      "cell_type": "markdown",
      "metadata": {
        "id": "3eK_yZ6dUjYE"
      },
      "source": [
        "## Known CMI formula"
      ]
    },
    {
      "cell_type": "code",
      "execution_count": 3,
      "metadata": {
        "colab": {
          "base_uri": "https://localhost:8080/",
          "height": 582
        },
        "id": "phkJMi2r0sJd",
        "outputId": "8dc765d5-8804-4809-c1f3-06c2308725b9"
      },
      "outputs": [
        {
          "name": "stdout",
          "output_type": "stream",
          "text": [
            "Estimated I(X, Z; Y) = 3.205263137817383\n",
            "Estimated I(X; Y) = 1.0255218744277954\n",
            "Estimated I(X; Y | Z) = 2.1797412633895874\n",
            "True I(X, Z; Y) = 0.013447650005808142\n",
            "True I(X; Y) = 0.013447650005808142\n",
            "True I(X; Y | Z) = 0.0\n"
          ]
        },
        {
          "data": {
            "image/png": "[encoded data removed]",
            "text/plain": [
              "<Figure size 640x480 with 1 Axes>"
            ]
          },
          "metadata": {},
          "output_type": "display_data"
        }
      ],
      "source": [
        "def generate_data(n):\n",
        "    mu1 = np.array([1, 1, 1, 0, 0]) / 5\n",
        "    mu2 = np.array([0, 0, 1, 1, 1]) / 5\n",
        "    Sigma1 = (np.eye(5) * 9 + np.ones((5, 5))) / 10\n",
        "    Sigma2 = 1.2 * np.eye(5) - np.ones((5, 5)) / 5\n",
        "\n",
        "    x1 = np.random.multivariate_normal(mu1, Sigma1, size=n)\n",
        "    x2 = np.random.multivariate_normal(mu2, Sigma2, size=n)\n",
        "    x = np.concatenate((x1, x2), axis=0)\n",
        "    y = np.concatenate((np.ones(n), np.zeros(n)))\n",
        "\n",
        "    scaler = StandardScaler()\n",
        "    x = scaler.fit_transform(x)\n",
        "\n",
        "    return x, y\n",
        "\n",
        "\n",
        "def calculate_true_mi(x, y, bins=20):\n",
        "    \"\"\"计算真实的互信息\"\"\"\n",
        "    hist_2d, x_edges, y_edges = np.histogram2d(x, y, bins=bins)\n",
        "    pxy = hist_2d / float(np.sum(hist_2d))\n",
        "    px = np.sum(pxy, axis=1)\n",
        "    py = np.sum(pxy, axis=0)\n",
        "    px_py = px[:, None] * py[None, :]\n",
        "    nzs = pxy > 0  # Only non-zero pxy values contribute to the sum\n",
        "    return np.sum(pxy[nzs] * np.log(pxy[nzs] / px_py[nzs]))\n",
        "\n",
        "\n",
        "n = 1000\n",
        "x, y = generate_data(n)\n",
        "\n",
        "\n",
        "Z = y\n",
        "\n",
        "\n",
        "joint_XZ = np.column_stack((x, Z))\n",
        "I_XZ_Y = estimate_mi(joint_XZ, y, input_dim=joint_XZ.shape[1])\n",
        "\n",
        "\n",
        "I_X_Y = estimate_mi(x, y, input_dim=x.shape[1])\n",
        "\n",
        "# 计算条件互信息 I(X; Y | Z)\n",
        "CMI = I_XZ_Y - I_X_Y\n",
        "\n",
        "# 计算真实的互信息\n",
        "true_I_XZ_Y = calculate_true_mi(joint_XZ[:, 0], y)\n",
        "true_I_X_Y = calculate_true_mi(x[:, 0], y)\n",
        "true_CMI = true_I_XZ_Y - true_I_X_Y\n",
        "\n",
        "print(f\"Estimated I(X, Z; Y) = {I_XZ_Y}\")\n",
        "print(f\"Estimated I(X; Y) = {I_X_Y}\")\n",
        "print(f\"Estimated I(X; Y | Z) = {CMI}\")\n",
        "\n",
        "print(f\"True I(X, Z; Y) = {true_I_XZ_Y}\")\n",
        "print(f\"True I(X; Y) = {true_I_X_Y}\")\n",
        "print(f\"True I(X; Y | Z) = {true_CMI}\")\n",
        "\n",
        "# plot\n",
        "fig, ax = plt.subplots()\n",
        "categories = ['I(X, Z; Y)', 'I(X; Y)', 'I(X; Y | Z)']\n",
        "estimated_values = [I_XZ_Y, I_X_Y, CMI]\n",
        "true_values = [true_I_XZ_Y, true_I_X_Y, true_CMI]\n",
        "\n",
        "bar_width = 0.35\n",
        "index = np.arange(len(categories))\n",
        "\n",
        "bar1 = plt.bar(index, estimated_values, bar_width, label='Estimated')\n",
        "bar2 = plt.bar(index + bar_width, true_values, bar_width, label='True')\n",
        "\n",
        "plt.xlabel('Metrics')\n",
        "plt.ylabel('Values')\n",
        "plt.title('Estimated vs True Mutual Information')\n",
        "plt.xticks(index + bar_width / 2, categories)\n",
        "plt.legend()\n",
        "\n",
        "plt.show()\n"
      ]
    },
    {
      "cell_type": "markdown",
      "metadata": {
        "id": "9PQ6_FzUUnmO"
      },
      "source": [
        "## Simulated Data"
      ]
    },
    {
      "cell_type": "code",
      "execution_count": 4,
      "metadata": {
        "colab": {
          "base_uri": "https://localhost:8080/",
          "height": 619
        },
        "id": "I7yip3NqylNa",
        "outputId": "69c418cb-e95a-43b9-d20d-93ca7ba9d7ae"
      },
      "outputs": [
        {
          "name": "stdout",
          "output_type": "stream",
          "text": [
            "Top 10 important features (true ranking): [0, 1, 2, 3, 4, 5, 6, 7, 8, 9]\n",
            "Top 10 important features (estimated ranking): [12, 4, 6, 5, 3, 16, 7, 8, 17, 0]\n",
            "Intersection size (simulated): 7\n"
          ]
        },
        {
          "data": {
            "image/png": "[encoded data removed]",
            "text/plain": [
              "<Figure size 1200x600 with 1 Axes>"
            ]
          },
          "metadata": {},
          "output_type": "display_data"
        }
      ],
      "source": [
        "# 生成模拟数据\n",
        "def generate_simulation_data(n):\n",
        "    X, y = make_classification(n_samples=n, n_features=20, n_informative=10, random_state=42)\n",
        "    z = np.random.randn(n, 5)\n",
        "    return X, y, z\n",
        "\n",
        "# 排序特征的重要性\n",
        "def rank_features(X, y, z):\n",
        "    num_features = X.shape[1]\n",
        "    mi_estimates = []\n",
        "\n",
        "    for i in range(num_features):\n",
        "        xi = X[:, [i]]\n",
        "        mi = estimate_mi(xi, y, input_dim=xi.shape[1])\n",
        "        mi_estimates.append((i, mi))\n",
        "\n",
        "    mi_estimates.sort(key=lambda x: x[1], reverse=True)\n",
        "    feature_ranking = [i for i, _ in mi_estimates]\n",
        "    feature_importances = [mi for _, mi in mi_estimates]\n",
        "    return feature_ranking, feature_importances\n",
        "\n",
        "# 评估排序质量的函数\n",
        "def evaluate_ranking(true_ranking, estimated_ranking, k=10):\n",
        "    true_top_k = set(true_ranking[:k])\n",
        "    estimated_top_k = set(estimated_ranking[:k])\n",
        "    intersection_size = len(true_top_k.intersection(estimated_top_k))\n",
        "    inversions = 0\n",
        "    for i in range(k):\n",
        "        for j in range(i + 1, k):\n",
        "            if true_ranking[i] in estimated_top_k and true_ranking[j] in estimated_top_k:\n",
        "                idx_i = np.where(estimated_ranking == true_ranking[i])[0][0]\n",
        "                idx_j = np.where(estimated_ranking == true_ranking[j])[0][0]\n",
        "                if idx_i > idx_j:\n",
        "                    inversions += 1\n",
        "    return intersection_size, inversions\n",
        "\n",
        "# 示例2：模拟数据的特征排序\n",
        "X_sim, y_sim, z_sim = generate_simulation_data(n=1000)\n",
        "feature_ranking_sim, feature_importances_sim = rank_features(X_sim, y_sim, z_sim)\n",
        "\n",
        "# True ranking based on known informative features\n",
        "true_ranking_sim = list(range(10)) + list(range(10, 20))\n",
        "\n",
        "# Compare estimated ranking with true ranking\n",
        "def compare_rankings(true_ranking, estimated_ranking, k=10):\n",
        "    true_top_k = set(true_ranking[:k])\n",
        "    estimated_top_k = set(estimated_ranking[:k])\n",
        "    intersection_size = len(true_top_k.intersection(estimated_top_k))\n",
        "    return intersection_size\n",
        "\n",
        "# Evaluate top-k ranking quality\n",
        "top_k = 10\n",
        "intersection_size_sim = compare_rankings(true_ranking_sim, feature_ranking_sim, k=top_k)\n",
        "\n",
        "print(\"Top 10 important features (true ranking):\", true_ranking_sim[:top_k])\n",
        "print(\"Top 10 important features (estimated ranking):\", feature_ranking_sim[:top_k])\n",
        "print(\"Intersection size (simulated):\", intersection_size_sim)\n",
        "\n",
        "# Plot feature importance ranking for simulated data\n",
        "features_sim = [f'Feature {i}' for i in feature_ranking_sim[:top_k]]\n",
        "importance_scores_sim = feature_importances_sim[:top_k]\n",
        "\n",
        "plt.figure(figsize=(12, 6))\n",
        "plt.barh(features_sim, importance_scores_sim, color='skyblue')\n",
        "plt.xlabel('Estimated Mutual Information')\n",
        "plt.ylabel('Features')\n",
        "plt.title('Top 10 Variable Importance Ranking (Simulated Data)')\n",
        "plt.gca().invert_yaxis()\n",
        "plt.show()"
      ]
    },
    {
      "cell_type": "markdown",
      "metadata": {
        "id": "d6a9ZSTxUrL1"
      },
      "source": [
        "## Real dataset"
      ]
    },
    {
      "cell_type": "code",
      "execution_count": 8,
      "metadata": {
        "colab": {
          "base_uri": "https://localhost:8080/",
          "height": 72
        },
        "id": "WHnYDOSfzF8i",
        "outputId": "63df2c68-f05b-41e8-8c9a-4bdaf0931bba"
      },
      "outputs": [
        {
          "name": "stdout",
          "output_type": "stream",
          "text": [
            "Top 10 important features (true ranking by correlation): ['bmi', 's5', 'bp', 's4', 's3', 's6', 's1', 'age', 's2', 'sex']\n",
            "Top 10 important features (estimated ranking): ['age', 'sex', 'bmi', 'bp', 's1', 's2', 's3', 's4', 's5', 's6']\n"
          ]
        },
        {
          "data": {
            "text/plain": [
              "<Figure size 1200x600 with 0 Axes>"
            ]
          },
          "metadata": {},
          "output_type": "display_data"
        }
      ],
      "source": [
        "data = load_diabetes()\n",
        "X_real = data.data\n",
        "y_real = data.target\n",
        "feature_names_real = data.feature_names\n",
        "\n",
        "# Standardize data\n",
        "scaler = StandardScaler()\n",
        "X_real = scaler.fit_transform(X_real)\n",
        "\n",
        "# Rank features based on mutual information for the real dataset\n",
        "feature_ranking_real, feature_importances_real = rank_features(X_real, y_real)\n",
        "\n",
        "# Calculate true ranking based on correlation with the target variable\n",
        "correlations = np.abs(np.corrcoef(X_real, y_real, rowvar=False)[-1, :-1])\n",
        "true_ranking_real = np.argsort(-correlations)  # Negative sign for descending order\n",
        "\n",
        "# Print the top 10 features based on correlation and estimated mutual information\n",
        "print(\"Top 10 important features (true ranking by correlation):\", [feature_names_real[i] for i in true_ranking_real[:top_k]])\n",
        "print(\"Top 10 important features (estimated ranking):\", [feature_names_real[i] for i in feature_ranking_real[:top_k]])\n",
        "\n",
        "# Visualization of true and estimated rankings for the real dataset\n",
        "plt.figure(figsize=(12, 6))\n",
        "\n",
        "# True ranking based on correlation\n",
        "true_features_real = [feature_names_real[i] for i in true_ranking_real[:top_k]]\n",
        "true_importance_scores_real = correlations[true_ranking_real[:top_k]]\n",
        "\n"
      ]
    }
  ],
  "metadata": {
    "colab": {
      "provenance": []
    },
    "kernelspec": {
      "display_name": "Python 3",
      "name": "python3"
    },
    "language_info": {
      "name": "python"
    }
  },
  "nbformat": 4,
  "nbformat_minor": 0
}
